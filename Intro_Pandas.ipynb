{
 "cells": [
  {
   "cell_type": "markdown",
   "metadata": {},
   "source": [
    "# Taller de Automatización de Procesos con Python"
   ]
  },
  {
   "cell_type": "markdown",
   "metadata": {},
   "source": [
    "## Introducción a Pandas\n",
    "\n",
    "### GitHub repository: https://github.com/jorgemauricio/automatizacion_python\n",
    "\n",
    "### Instructor: Jorge Mauricio\n",
    "\n",
    "### Base de datos: Stanford Open Policing Project ([Montana](https://openpolicing.stanford.edu/data)) "
   ]
  },
  {
   "cell_type": "code",
   "execution_count": 30,
   "metadata": {},
   "outputs": [],
   "source": [
    "# librerías\n",
    "import pandas as pd\n",
    "import matplotlib.pyplot as plt\n",
    "%matplotlib inline"
   ]
  },
  {
   "cell_type": "code",
   "execution_count": 31,
   "metadata": {},
   "outputs": [],
   "source": [
    "# leer csv\n",
    "df = pd.read_csv(\"data/Montana.csv\", low_memory=False)"
   ]
  },
  {
   "cell_type": "code",
   "execution_count": 32,
   "metadata": {},
   "outputs": [
    {
     "data": {
      "text/html": [
       "<div>\n",
       "<style scoped>\n",
       "    .dataframe tbody tr th:only-of-type {\n",
       "        vertical-align: middle;\n",
       "    }\n",
       "\n",
       "    .dataframe tbody tr th {\n",
       "        vertical-align: top;\n",
       "    }\n",
       "\n",
       "    .dataframe thead th {\n",
       "        text-align: right;\n",
       "    }\n",
       "</style>\n",
       "<table border=\"1\" class=\"dataframe\">\n",
       "  <thead>\n",
       "    <tr style=\"text-align: right;\">\n",
       "      <th></th>\n",
       "      <th>id</th>\n",
       "      <th>state</th>\n",
       "      <th>stop_date</th>\n",
       "      <th>stop_time</th>\n",
       "      <th>location_raw</th>\n",
       "      <th>county_name</th>\n",
       "      <th>county_fips</th>\n",
       "      <th>fine_grained_location</th>\n",
       "      <th>police_department</th>\n",
       "      <th>driver_gender</th>\n",
       "      <th>...</th>\n",
       "      <th>lon</th>\n",
       "      <th>ethnicity</th>\n",
       "      <th>city</th>\n",
       "      <th>out_of_state</th>\n",
       "      <th>vehicle_year</th>\n",
       "      <th>vehicle_make</th>\n",
       "      <th>vehicle_model</th>\n",
       "      <th>vehicle_style</th>\n",
       "      <th>search_reason</th>\n",
       "      <th>stop_outcome_raw</th>\n",
       "    </tr>\n",
       "  </thead>\n",
       "  <tbody>\n",
       "    <tr>\n",
       "      <th>0</th>\n",
       "      <td>MT-2009-00001</td>\n",
       "      <td>MT</td>\n",
       "      <td>2009-01-01</td>\n",
       "      <td>02:10</td>\n",
       "      <td>CASCADE</td>\n",
       "      <td>Cascade County</td>\n",
       "      <td>30013.0</td>\n",
       "      <td>US 89 N MM10 (SB)</td>\n",
       "      <td>NaN</td>\n",
       "      <td>F</td>\n",
       "      <td>...</td>\n",
       "      <td>-111.802932</td>\n",
       "      <td>N</td>\n",
       "      <td>NaN</td>\n",
       "      <td>False</td>\n",
       "      <td>1994</td>\n",
       "      <td>FORD</td>\n",
       "      <td>EXPLORER</td>\n",
       "      <td>SPORT UTILITY</td>\n",
       "      <td>NaN</td>\n",
       "      <td>TRAFFIC CITATION,WARNING</td>\n",
       "    </tr>\n",
       "    <tr>\n",
       "      <th>1</th>\n",
       "      <td>MT-2009-00002</td>\n",
       "      <td>MT</td>\n",
       "      <td>2009-01-02</td>\n",
       "      <td>11:34</td>\n",
       "      <td>MISSOULA</td>\n",
       "      <td>Missoula County</td>\n",
       "      <td>30063.0</td>\n",
       "      <td>HWY 93 SO AND ANNS LANE S/B</td>\n",
       "      <td>NaN</td>\n",
       "      <td>M</td>\n",
       "      <td>...</td>\n",
       "      <td>-114.081142</td>\n",
       "      <td>N</td>\n",
       "      <td>NaN</td>\n",
       "      <td>False</td>\n",
       "      <td>1996</td>\n",
       "      <td>GMC</td>\n",
       "      <td>TK</td>\n",
       "      <td>TRUCK</td>\n",
       "      <td>NaN</td>\n",
       "      <td>INFFRACTION ARREST,WARNING</td>\n",
       "    </tr>\n",
       "    <tr>\n",
       "      <th>2</th>\n",
       "      <td>MT-2009-00003</td>\n",
       "      <td>MT</td>\n",
       "      <td>2009-01-03</td>\n",
       "      <td>11:36</td>\n",
       "      <td>MISSOULA</td>\n",
       "      <td>Missoula County</td>\n",
       "      <td>30063.0</td>\n",
       "      <td>P007 HWY 93 MM 77 N/B</td>\n",
       "      <td>NaN</td>\n",
       "      <td>M</td>\n",
       "      <td>...</td>\n",
       "      <td>-114.073505</td>\n",
       "      <td>N</td>\n",
       "      <td>NaN</td>\n",
       "      <td>False</td>\n",
       "      <td>1999</td>\n",
       "      <td>GMC</td>\n",
       "      <td>YUKON</td>\n",
       "      <td>SPORT UTILITY</td>\n",
       "      <td>NaN</td>\n",
       "      <td>INFFRACTION ARREST</td>\n",
       "    </tr>\n",
       "    <tr>\n",
       "      <th>3</th>\n",
       "      <td>MT-2009-00004</td>\n",
       "      <td>MT</td>\n",
       "      <td>2009-01-04</td>\n",
       "      <td>10:33</td>\n",
       "      <td>MISSOULA</td>\n",
       "      <td>Missoula County</td>\n",
       "      <td>30063.0</td>\n",
       "      <td>P007 HWY 93 MM 81 S/B</td>\n",
       "      <td>NaN</td>\n",
       "      <td>F</td>\n",
       "      <td>...</td>\n",
       "      <td>-114.079027</td>\n",
       "      <td>NaN</td>\n",
       "      <td>NaN</td>\n",
       "      <td>False</td>\n",
       "      <td>2002</td>\n",
       "      <td>HOND</td>\n",
       "      <td>CR-V</td>\n",
       "      <td>SPORT UTILITY</td>\n",
       "      <td>NaN</td>\n",
       "      <td>INFFRACTION ARREST</td>\n",
       "    </tr>\n",
       "    <tr>\n",
       "      <th>4</th>\n",
       "      <td>MT-2009-00005</td>\n",
       "      <td>MT</td>\n",
       "      <td>2009-01-04</td>\n",
       "      <td>10:46</td>\n",
       "      <td>MISSOULA</td>\n",
       "      <td>Missoula County</td>\n",
       "      <td>30063.0</td>\n",
       "      <td>P007 HWY 93 MM 81 N/B</td>\n",
       "      <td>NaN</td>\n",
       "      <td>M</td>\n",
       "      <td>...</td>\n",
       "      <td>-114.079150</td>\n",
       "      <td>NaN</td>\n",
       "      <td>NaN</td>\n",
       "      <td>False</td>\n",
       "      <td>1992</td>\n",
       "      <td>TOYT</td>\n",
       "      <td>TERCEL</td>\n",
       "      <td>SEDAN</td>\n",
       "      <td>NaN</td>\n",
       "      <td>INFFRACTION ARREST</td>\n",
       "    </tr>\n",
       "  </tbody>\n",
       "</table>\n",
       "<p>5 rows × 33 columns</p>\n",
       "</div>"
      ],
      "text/plain": [
       "              id state   stop_date stop_time location_raw      county_name  \\\n",
       "0  MT-2009-00001    MT  2009-01-01     02:10      CASCADE   Cascade County   \n",
       "1  MT-2009-00002    MT  2009-01-02     11:34     MISSOULA  Missoula County   \n",
       "2  MT-2009-00003    MT  2009-01-03     11:36     MISSOULA  Missoula County   \n",
       "3  MT-2009-00004    MT  2009-01-04     10:33     MISSOULA  Missoula County   \n",
       "4  MT-2009-00005    MT  2009-01-04     10:46     MISSOULA  Missoula County   \n",
       "\n",
       "   county_fips        fine_grained_location  police_department driver_gender  \\\n",
       "0      30013.0            US 89 N MM10 (SB)                NaN             F   \n",
       "1      30063.0  HWY 93 SO AND ANNS LANE S/B                NaN             M   \n",
       "2      30063.0        P007 HWY 93 MM 77 N/B                NaN             M   \n",
       "3      30063.0        P007 HWY 93 MM 81 S/B                NaN             F   \n",
       "4      30063.0        P007 HWY 93 MM 81 N/B                NaN             M   \n",
       "\n",
       "              ...                     lon  ethnicity city out_of_state  \\\n",
       "0             ...             -111.802932          N  NaN        False   \n",
       "1             ...             -114.081142          N  NaN        False   \n",
       "2             ...             -114.073505          N  NaN        False   \n",
       "3             ...             -114.079027        NaN  NaN        False   \n",
       "4             ...             -114.079150        NaN  NaN        False   \n",
       "\n",
       "  vehicle_year vehicle_make  vehicle_model  vehicle_style search_reason  \\\n",
       "0         1994         FORD       EXPLORER  SPORT UTILITY           NaN   \n",
       "1         1996          GMC             TK          TRUCK           NaN   \n",
       "2         1999          GMC          YUKON  SPORT UTILITY           NaN   \n",
       "3         2002         HOND           CR-V  SPORT UTILITY           NaN   \n",
       "4         1992         TOYT         TERCEL          SEDAN           NaN   \n",
       "\n",
       "             stop_outcome_raw  \n",
       "0    TRAFFIC CITATION,WARNING  \n",
       "1  INFFRACTION ARREST,WARNING  \n",
       "2          INFFRACTION ARREST  \n",
       "3          INFFRACTION ARREST  \n",
       "4          INFFRACTION ARREST  \n",
       "\n",
       "[5 rows x 33 columns]"
      ]
     },
     "execution_count": 32,
     "metadata": {},
     "output_type": "execute_result"
    }
   ],
   "source": [
    "# estructura del dataFrame Montana\n",
    "df.head()"
   ]
  },
  {
   "cell_type": "code",
   "execution_count": 33,
   "metadata": {},
   "outputs": [
    {
     "data": {
      "text/plain": [
       "(825118, 33)"
      ]
     },
     "execution_count": 33,
     "metadata": {},
     "output_type": "execute_result"
    }
   ],
   "source": [
    "# cantidad de columnas y filas\n",
    "df.shape"
   ]
  },
  {
   "cell_type": "code",
   "execution_count": 34,
   "metadata": {},
   "outputs": [
    {
     "data": {
      "text/plain": [
       "id                        object\n",
       "state                     object\n",
       "stop_date                 object\n",
       "stop_time                 object\n",
       "location_raw              object\n",
       "county_name               object\n",
       "county_fips              float64\n",
       "fine_grained_location     object\n",
       "police_department        float64\n",
       "driver_gender             object\n",
       "driver_age_raw           float64\n",
       "driver_age               float64\n",
       "driver_race_raw           object\n",
       "driver_race               object\n",
       "violation_raw             object\n",
       "violation                 object\n",
       "search_conducted            bool\n",
       "search_type_raw           object\n",
       "search_type               object\n",
       "contraband_found          object\n",
       "stop_outcome              object\n",
       "is_arrested                 bool\n",
       "lat                      float64\n",
       "lon                      float64\n",
       "ethnicity                 object\n",
       "city                      object\n",
       "out_of_state              object\n",
       "vehicle_year              object\n",
       "vehicle_make              object\n",
       "vehicle_model             object\n",
       "vehicle_style             object\n",
       "search_reason             object\n",
       "stop_outcome_raw          object\n",
       "dtype: object"
      ]
     },
     "execution_count": 34,
     "metadata": {},
     "output_type": "execute_result"
    }
   ],
   "source": [
    "# tipos de datos de cada columna\n",
    "df.dtypes"
   ]
  },
  {
   "cell_type": "code",
   "execution_count": 35,
   "metadata": {},
   "outputs": [
    {
     "data": {
      "text/plain": [
       "id                            0\n",
       "state                         0\n",
       "stop_date                    11\n",
       "stop_time                    11\n",
       "location_raw                  4\n",
       "county_name                4056\n",
       "county_fips                4056\n",
       "fine_grained_location      3741\n",
       "police_department        825118\n",
       "driver_gender               119\n",
       "driver_age_raw                0\n",
       "driver_age                 3480\n",
       "driver_race_raw             106\n",
       "driver_race                2739\n",
       "violation_raw                73\n",
       "violation                    73\n",
       "search_conducted              0\n",
       "search_type_raw          822092\n",
       "search_type              822092\n",
       "contraband_found           3026\n",
       "stop_outcome                 53\n",
       "is_arrested                   0\n",
       "lat                         436\n",
       "lon                         436\n",
       "ethnicity                    98\n",
       "city                     549630\n",
       "out_of_state               4699\n",
       "vehicle_year               6610\n",
       "vehicle_make               4268\n",
       "vehicle_model             23805\n",
       "vehicle_style             65362\n",
       "search_reason            822309\n",
       "stop_outcome_raw             53\n",
       "dtype: int64"
      ]
     },
     "execution_count": 35,
     "metadata": {},
     "output_type": "execute_result"
    }
   ],
   "source": [
    "# contabilizar los valores nulos\n",
    "df.isnull().sum()"
   ]
  },
  {
   "cell_type": "markdown",
   "metadata": {},
   "source": [
    "## Remover columnas que solo contienen valores nulos"
   ]
  },
  {
   "cell_type": "code",
   "execution_count": 36,
   "metadata": {},
   "outputs": [],
   "source": [
    "# eliminar la columna de \"police_department\"\n",
    "df.drop(\"police_department\", axis=\"columns\", inplace=True)"
   ]
  },
  {
   "cell_type": "code",
   "execution_count": 37,
   "metadata": {},
   "outputs": [
    {
     "data": {
      "text/plain": [
       "(825118, 32)"
      ]
     },
     "execution_count": 37,
     "metadata": {},
     "output_type": "execute_result"
    }
   ],
   "source": [
    "# contabilizar columnas y filas\n",
    "df.shape"
   ]
  },
  {
   "cell_type": "code",
   "execution_count": 38,
   "metadata": {},
   "outputs": [
    {
     "data": {
      "text/plain": [
       "Index(['id', 'state', 'stop_date', 'stop_time', 'location_raw', 'county_name',\n",
       "       'county_fips', 'fine_grained_location', 'driver_gender',\n",
       "       'driver_age_raw', 'driver_age', 'driver_race_raw', 'driver_race',\n",
       "       'violation_raw', 'violation', 'search_conducted', 'search_type_raw',\n",
       "       'search_type', 'contraband_found', 'stop_outcome', 'is_arrested', 'lat',\n",
       "       'lon', 'ethnicity', 'city', 'out_of_state', 'vehicle_year',\n",
       "       'vehicle_make', 'vehicle_model', 'vehicle_style', 'search_reason',\n",
       "       'stop_outcome_raw'],\n",
       "      dtype='object')"
      ]
     },
     "execution_count": 38,
     "metadata": {},
     "output_type": "execute_result"
    }
   ],
   "source": [
    "# checar columnas\n",
    "df.columns"
   ]
  },
  {
   "cell_type": "code",
   "execution_count": 39,
   "metadata": {},
   "outputs": [
    {
     "data": {
      "text/plain": [
       "(825118, 32)"
      ]
     },
     "execution_count": 39,
     "metadata": {},
     "output_type": "execute_result"
    }
   ],
   "source": [
    "# método alternativo\n",
    "df.dropna(axis='columns', how='all').shape"
   ]
  },
  {
   "cell_type": "markdown",
   "metadata": {},
   "source": [
    "NOTA: \n",
    "- Existe más de una forma de eliminar datos nulos\n",
    "- Verificar los argumentos de cada método"
   ]
  },
  {
   "cell_type": "markdown",
   "metadata": {},
   "source": [
    "## ¿Qué genero es detenido más por exceso de velocidad?"
   ]
  },
  {
   "cell_type": "code",
   "execution_count": 40,
   "metadata": {},
   "outputs": [
    {
     "data": {
      "text/plain": [
       "M    225327\n",
       "F    111598\n",
       "Name: driver_gender, dtype: int64"
      ]
     },
     "execution_count": 40,
     "metadata": {},
     "output_type": "execute_result"
    }
   ],
   "source": [
    "# Número de mujeres y hombres que son detenidos por exceso de velocidad\n",
    "df[df[\"violation\"] == 'Speeding'][\"driver_gender\"].value_counts()"
   ]
  },
  {
   "cell_type": "code",
   "execution_count": 41,
   "metadata": {},
   "outputs": [
    {
     "data": {
      "text/plain": [
       "M    0.668775\n",
       "F    0.331225\n",
       "Name: driver_gender, dtype: float64"
      ]
     },
     "execution_count": 41,
     "metadata": {},
     "output_type": "execute_result"
    }
   ],
   "source": [
    "# Porcentaje de mujeres y hombres que son detenidos por exceso de velocidad\n",
    "df[df[\"violation\"] == 'Speeding'][\"driver_gender\"].value_counts(normalize=True)"
   ]
  },
  {
   "cell_type": "code",
   "execution_count": 42,
   "metadata": {},
   "outputs": [
    {
     "data": {
      "text/plain": [
       "M    0.668775\n",
       "F    0.331225\n",
       "Name: driver_gender, dtype: float64"
      ]
     },
     "execution_count": 42,
     "metadata": {},
     "output_type": "execute_result"
    }
   ],
   "source": [
    "# forma alternativa\n",
    "df.loc[df[\"violation\"] == 'Speeding', \"driver_gender\"].value_counts(normalize=True)"
   ]
  },
  {
   "cell_type": "code",
   "execution_count": 43,
   "metadata": {},
   "outputs": [
    {
     "data": {
      "text/plain": [
       "Speeding                                                0.404612\n",
       "License,Speeding                                        0.066251\n",
       "Paperwork,Speeding                                      0.053619\n",
       "Lights                                                  0.050501\n",
       "License,Paperwork,Speeding                              0.032053\n",
       "Safe movement                                           0.031704\n",
       "License                                                 0.024793\n",
       "Seat belt,Speeding                                      0.021553\n",
       "Registration/plates                                     0.018569\n",
       "License,Lights                                          0.014628\n",
       "Truck                                                   0.012943\n",
       "Stop sign/light                                         0.012774\n",
       "Other                                                   0.011884\n",
       "License,Paperwork                                       0.011009\n",
       "Lights,Paperwork                                        0.009154\n",
       "Equipment,Speeding                                      0.008781\n",
       "Paperwork,Seat belt,Speeding                            0.008750\n",
       "License,Seat belt,Speeding                              0.008578\n",
       "License,Lights,Paperwork                                0.008452\n",
       "Equipment                                               0.008012\n",
       "License,Registration/plates                             0.005678\n",
       "License,Safe movement                                   0.005635\n",
       "Lights,Speeding                                         0.005425\n",
       "Registration/plates,Seat belt                           0.005367\n",
       "Safe movement,Speeding                                  0.005290\n",
       "License,Paperwork,Seat belt                             0.005116\n",
       "License,Seat belt                                       0.004421\n",
       "Paperwork,Registration/plates                           0.004222\n",
       "License,Paperwork,Registration/plates                   0.003857\n",
       "Equipment,License                                       0.003832\n",
       "                                                          ...   \n",
       "Safe movement,Stop sign/light,Truck                     0.000004\n",
       "Other (non-mapped),Registration/plates,Seat belt        0.000004\n",
       "Registration/plates,Speeding,Stop sign/light            0.000004\n",
       "Registration/plates,Speeding,Truck                      0.000004\n",
       "DUI,Other,Truck                                         0.000004\n",
       "Other (non-mapped),Seat belt,Speeding                   0.000004\n",
       "Other (non-mapped),Paperwork,Safe movement              0.000002\n",
       "DUI,Lights,Registration/plates                          0.000002\n",
       "DUI,Other (non-mapped),Truck                            0.000002\n",
       "Other,Other (non-mapped),Safe movement                  0.000002\n",
       "License,Other,Other (non-mapped)                        0.000002\n",
       "Other (non-mapped),Safe movement,Stop sign/light        0.000002\n",
       "DUI,Registration/plates,Safe movement                   0.000002\n",
       "DUI,Safe movement,Truck                                 0.000002\n",
       "DUI,Paperwork,Truck                                     0.000002\n",
       "Paperwork,Registration/plates,Truck                     0.000002\n",
       "Other (non-mapped),Registration/plates,Safe movement    0.000002\n",
       "License,Other (non-mapped),Truck                        0.000002\n",
       "Other (non-mapped),Stop sign/light                      0.000002\n",
       "Equipment,Safe movement,Truck                           0.000002\n",
       "Other (non-mapped),Seat belt,Stop sign/light            0.000002\n",
       "Equipment,Other (non-mapped),Paperwork                  0.000002\n",
       "Speeding,Stop sign/light,Truck                          0.000002\n",
       "License,Registration/plates,Truck                       0.000002\n",
       "Other (non-mapped),Safe movement,Seat belt              0.000002\n",
       "Other (non-mapped),Speeding,Truck                       0.000002\n",
       "DUI,Other (non-mapped),Paperwork                        0.000002\n",
       "Other,Stop sign/light,Truck                             0.000002\n",
       "Equipment,Other (non-mapped),Truck                      0.000002\n",
       "Equipment,Lights,Other (non-mapped)                     0.000002\n",
       "Name: violation, Length: 330, dtype: float64"
      ]
     },
     "execution_count": 43,
     "metadata": {},
     "output_type": "execute_result"
    }
   ],
   "source": [
    "# cuando un hombre es detenido, que porcentaje es por exceso de velocidad?\n",
    "df[df['driver_gender'] == \"M\"][\"violation\"].value_counts(normalize=True)"
   ]
  },
  {
   "cell_type": "code",
   "execution_count": 44,
   "metadata": {},
   "outputs": [
    {
     "data": {
      "text/plain": [
       "Speeding                                             0.416364\n",
       "License,Speeding                                     0.080838\n",
       "Paperwork,Speeding                                   0.062131\n",
       "Lights                                               0.054774\n",
       "License,Paperwork,Speeding                           0.040507\n",
       "Safe movement                                        0.031616\n",
       "License                                              0.025337\n",
       "Registration/plates                                  0.021061\n",
       "Seat belt,Speeding                                   0.016674\n",
       "License,Lights                                       0.016021\n",
       "Stop sign/light                                      0.015383\n",
       "License,Paperwork                                    0.013107\n",
       "Lights,Paperwork                                     0.010626\n",
       "License,Lights,Paperwork                             0.009659\n",
       "Other                                                0.009301\n",
       "Paperwork,Seat belt,Speeding                         0.007208\n",
       "License,Seat belt,Speeding                           0.006846\n",
       "License,Registration/plates                          0.006462\n",
       "License,Safe movement                                0.006316\n",
       "Equipment,Speeding                                   0.005697\n",
       "Equipment                                            0.005208\n",
       "Safe movement,Speeding                               0.005059\n",
       "Paperwork,Registration/plates                        0.004809\n",
       "Lights,Speeding                                      0.004634\n",
       "License,Paperwork,Seat belt                          0.004380\n",
       "License,Paperwork,Registration/plates                0.004268\n",
       "Paperwork,Safe movement                              0.004141\n",
       "License,Stop sign/light                              0.003925\n",
       "Registration/plates,Seat belt                        0.003694\n",
       "License,Paperwork,Safe movement                      0.003660\n",
       "                                                       ...   \n",
       "Equipment,Registration/plates,Stop sign/light        0.000007\n",
       "Equipment,Lights,Other (non-mapped)                  0.000007\n",
       "Other (non-mapped),Safe movement                     0.000004\n",
       "DUI,Equipment,Lights                                 0.000004\n",
       "Other,Other (non-mapped),Speeding                    0.000004\n",
       "License,Other,Other (non-mapped)                     0.000004\n",
       "DUI,Speeding,Stop sign/light                         0.000004\n",
       "Stop sign/light,Truck                                0.000004\n",
       "Equipment,Other (non-mapped)                         0.000004\n",
       "DUI,Registration/plates                              0.000004\n",
       "DUI,Other (non-mapped),Paperwork                     0.000004\n",
       "Equipment,License,Truck                              0.000004\n",
       "Lights,Other (non-mapped),Paperwork                  0.000004\n",
       "Paperwork,Truck                                      0.000004\n",
       "Other,Safe movement,Truck                            0.000004\n",
       "DUI,Other (non-mapped),Speeding                      0.000004\n",
       "License,Stop sign/light,Truck                        0.000004\n",
       "DUI,Other (non-mapped),Safe movement                 0.000004\n",
       "License,Seat belt,Truck                              0.000004\n",
       "Equipment,Truck                                      0.000004\n",
       "Lights,Registration/plates,Stop sign/light           0.000004\n",
       "Other,Registration/plates,Stop sign/light            0.000004\n",
       "Registration/plates,Speeding,Stop sign/light         0.000004\n",
       "Seat belt,Speeding,Truck                             0.000004\n",
       "DUI,Registration/plates,Speeding                     0.000004\n",
       "License,Other (non-mapped),Safe movement             0.000004\n",
       "Other (non-mapped),Registration/plates               0.000004\n",
       "Registration/plates,Safe movement,Stop sign/light    0.000004\n",
       "Safe movement,Speeding,Truck                         0.000004\n",
       "Equipment,Other,Safe movement                        0.000004\n",
       "Name: violation, Length: 273, dtype: float64"
      ]
     },
     "execution_count": 44,
     "metadata": {},
     "output_type": "execute_result"
    }
   ],
   "source": [
    "# cuando una mujer es detenida, que porcentaje es por exceso de velocidad?\n",
    "df[df['driver_gender'] == \"F\"][\"violation\"].value_counts(normalize=True)"
   ]
  },
  {
   "cell_type": "code",
   "execution_count": 45,
   "metadata": {},
   "outputs": [
    {
     "data": {
      "text/plain": [
       "driver_gender  violation                                           \n",
       "F              Speeding                                                0.416364\n",
       "               License,Speeding                                        0.080838\n",
       "               Paperwork,Speeding                                      0.062131\n",
       "               Lights                                                  0.054774\n",
       "               License,Paperwork,Speeding                              0.040507\n",
       "               Safe movement                                           0.031616\n",
       "               License                                                 0.025337\n",
       "               Registration/plates                                     0.021061\n",
       "               Seat belt,Speeding                                      0.016674\n",
       "               License,Lights                                          0.016021\n",
       "               Stop sign/light                                         0.015383\n",
       "               License,Paperwork                                       0.013107\n",
       "               Lights,Paperwork                                        0.010626\n",
       "               License,Lights,Paperwork                                0.009659\n",
       "               Other                                                   0.009301\n",
       "               Paperwork,Seat belt,Speeding                            0.007208\n",
       "               License,Seat belt,Speeding                              0.006846\n",
       "               License,Registration/plates                             0.006462\n",
       "               License,Safe movement                                   0.006316\n",
       "               Equipment,Speeding                                      0.005697\n",
       "               Equipment                                               0.005208\n",
       "               Safe movement,Speeding                                  0.005059\n",
       "               Paperwork,Registration/plates                           0.004809\n",
       "               Lights,Speeding                                         0.004634\n",
       "               License,Paperwork,Seat belt                             0.004380\n",
       "               License,Paperwork,Registration/plates                   0.004268\n",
       "               Paperwork,Safe movement                                 0.004141\n",
       "               License,Stop sign/light                                 0.003925\n",
       "               Registration/plates,Seat belt                           0.003694\n",
       "               License,Paperwork,Safe movement                         0.003660\n",
       "                                                                         ...   \n",
       "M              Other (non-mapped),Seat belt,Speeding                   0.000004\n",
       "               Other,Registration/plates,Stop sign/light               0.000004\n",
       "               Paperwork,Seat belt,Truck                               0.000004\n",
       "               Registration/plates,Speeding,Stop sign/light            0.000004\n",
       "               Registration/plates,Speeding,Truck                      0.000004\n",
       "               Safe movement,Stop sign/light,Truck                     0.000004\n",
       "               DUI,Lights,Registration/plates                          0.000002\n",
       "               DUI,Other (non-mapped),Paperwork                        0.000002\n",
       "               DUI,Other (non-mapped),Truck                            0.000002\n",
       "               DUI,Paperwork,Truck                                     0.000002\n",
       "               DUI,Registration/plates,Safe movement                   0.000002\n",
       "               DUI,Safe movement,Truck                                 0.000002\n",
       "               Equipment,Lights,Other (non-mapped)                     0.000002\n",
       "               Equipment,Other (non-mapped),Paperwork                  0.000002\n",
       "               Equipment,Other (non-mapped),Truck                      0.000002\n",
       "               Equipment,Safe movement,Truck                           0.000002\n",
       "               License,Other (non-mapped),Truck                        0.000002\n",
       "               License,Other,Other (non-mapped)                        0.000002\n",
       "               License,Registration/plates,Truck                       0.000002\n",
       "               Other (non-mapped),Paperwork,Safe movement              0.000002\n",
       "               Other (non-mapped),Registration/plates,Safe movement    0.000002\n",
       "               Other (non-mapped),Safe movement,Seat belt              0.000002\n",
       "               Other (non-mapped),Safe movement,Stop sign/light        0.000002\n",
       "               Other (non-mapped),Seat belt,Stop sign/light            0.000002\n",
       "               Other (non-mapped),Speeding,Truck                       0.000002\n",
       "               Other (non-mapped),Stop sign/light                      0.000002\n",
       "               Other,Other (non-mapped),Safe movement                  0.000002\n",
       "               Other,Stop sign/light,Truck                             0.000002\n",
       "               Paperwork,Registration/plates,Truck                     0.000002\n",
       "               Speeding,Stop sign/light,Truck                          0.000002\n",
       "Name: violation, Length: 603, dtype: float64"
      ]
     },
     "execution_count": 45,
     "metadata": {},
     "output_type": "execute_result"
    }
   ],
   "source": [
    "# porcentaje agrupado por genero\n",
    "df.groupby(\"driver_gender\")[\"violation\"].value_counts(normalize=True)"
   ]
  },
  {
   "cell_type": "code",
   "execution_count": 46,
   "metadata": {},
   "outputs": [
    {
     "data": {
      "text/plain": [
       "Index(['id', 'state', 'stop_date', 'stop_time', 'location_raw', 'county_name',\n",
       "       'county_fips', 'fine_grained_location', 'driver_gender',\n",
       "       'driver_age_raw', 'driver_age', 'driver_race_raw', 'driver_race',\n",
       "       'violation_raw', 'violation', 'search_conducted', 'search_type_raw',\n",
       "       'search_type', 'contraband_found', 'stop_outcome', 'is_arrested', 'lat',\n",
       "       'lon', 'ethnicity', 'city', 'out_of_state', 'vehicle_year',\n",
       "       'vehicle_make', 'vehicle_model', 'vehicle_style', 'search_reason',\n",
       "       'stop_outcome_raw'],\n",
       "      dtype='object')"
      ]
     },
     "execution_count": 46,
     "metadata": {},
     "output_type": "execute_result"
    }
   ],
   "source": [
    "# año con el número mayor de detenciones\n",
    "df.columns"
   ]
  },
  {
   "cell_type": "code",
   "execution_count": 47,
   "metadata": {},
   "outputs": [],
   "source": [
    "# combinar celdas de fecha y tiempo\n",
    "combined = df[\"stop_date\"] + \" \" + df['stop_time']"
   ]
  },
  {
   "cell_type": "code",
   "execution_count": 48,
   "metadata": {},
   "outputs": [],
   "source": [
    "# convertir a columna de tiempo\n",
    "df['fecha'] = pd.to_datetime(combined)"
   ]
  },
  {
   "cell_type": "code",
   "execution_count": 49,
   "metadata": {},
   "outputs": [
    {
     "data": {
      "text/plain": [
       "id                               object\n",
       "state                            object\n",
       "stop_date                        object\n",
       "stop_time                        object\n",
       "location_raw                     object\n",
       "county_name                      object\n",
       "county_fips                     float64\n",
       "fine_grained_location            object\n",
       "driver_gender                    object\n",
       "driver_age_raw                  float64\n",
       "driver_age                      float64\n",
       "driver_race_raw                  object\n",
       "driver_race                      object\n",
       "violation_raw                    object\n",
       "violation                        object\n",
       "search_conducted                   bool\n",
       "search_type_raw                  object\n",
       "search_type                      object\n",
       "contraband_found                 object\n",
       "stop_outcome                     object\n",
       "is_arrested                        bool\n",
       "lat                             float64\n",
       "lon                             float64\n",
       "ethnicity                        object\n",
       "city                             object\n",
       "out_of_state                     object\n",
       "vehicle_year                     object\n",
       "vehicle_make                     object\n",
       "vehicle_model                    object\n",
       "vehicle_style                    object\n",
       "search_reason                    object\n",
       "stop_outcome_raw                 object\n",
       "fecha                    datetime64[ns]\n",
       "dtype: object"
      ]
     },
     "execution_count": 49,
     "metadata": {},
     "output_type": "execute_result"
    }
   ],
   "source": [
    "# corroborar tipo de dato de la columna\n",
    "df.dtypes"
   ]
  },
  {
   "cell_type": "code",
   "execution_count": 50,
   "metadata": {},
   "outputs": [
    {
     "data": {
      "text/plain": [
       "2010.0    124285\n",
       "2011.0    122839\n",
       "2012.0    117487\n",
       "2015.0    115935\n",
       "2013.0    114283\n",
       "2014.0    109747\n",
       "2016.0    102097\n",
       "2009.0     18434\n",
       "Name: fecha, dtype: int64"
      ]
     },
     "execution_count": 50,
     "metadata": {},
     "output_type": "execute_result"
    }
   ],
   "source": [
    "# año con mayor número de detenciones\n",
    "df['fecha'].dt.year.value_counts()"
   ]
  },
  {
   "cell_type": "code",
   "execution_count": 51,
   "metadata": {},
   "outputs": [
    {
     "data": {
      "text/plain": [
       "9     13137\n",
       "8     12421\n",
       "7     12271\n",
       "5     11953\n",
       "10    11791\n",
       "3     10650\n",
       "6     10568\n",
       "4     10279\n",
       "2      9084\n",
       "11     7882\n",
       "1      7321\n",
       "12     6928\n",
       "Name: fecha, dtype: int64"
      ]
     },
     "execution_count": 51,
     "metadata": {},
     "output_type": "execute_result"
    }
   ],
   "source": [
    "# mes con mayor número de detenciones del 2010\n",
    "df[df['fecha'].dt.year == 2010]['fecha'].dt.month.value_counts()"
   ]
  },
  {
   "cell_type": "code",
   "execution_count": 52,
   "metadata": {},
   "outputs": [
    {
     "data": {
      "text/plain": [
       "1      7321\n",
       "2      9084\n",
       "3     10650\n",
       "4     10279\n",
       "5     11953\n",
       "6     10568\n",
       "7     12271\n",
       "8     12421\n",
       "9     13137\n",
       "10    11791\n",
       "11     7882\n",
       "12     6928\n",
       "Name: fecha, dtype: int64"
      ]
     },
     "execution_count": 52,
     "metadata": {},
     "output_type": "execute_result"
    }
   ],
   "source": [
    "# ordenar datos por índice\n",
    "df[df['fecha'].dt.year == 2010]['fecha'].dt.month.value_counts().sort_index()"
   ]
  },
  {
   "cell_type": "code",
   "execution_count": 53,
   "metadata": {},
   "outputs": [
    {
     "data": {
      "text/plain": [
       "<matplotlib.axes._subplots.AxesSubplot at 0x151bde881400>"
      ]
     },
     "execution_count": 53,
     "metadata": {},
     "output_type": "execute_result"
    },
    {
     "data": {
      "image/png": "[encoded data removed]",
      "text/plain": [
       "<Figure size 432x288 with 1 Axes>"
      ]
     },
     "metadata": {},
     "output_type": "display_data"
    }
   ],
   "source": [
    "# gráficar los datos (línea)\n",
    "df[df['fecha'].dt.year == 2010]['fecha'].dt.month.value_counts().sort_index().plot()"
   ]
  },
  {
   "cell_type": "code",
   "execution_count": 54,
   "metadata": {},
   "outputs": [
    {
     "data": {
      "text/plain": [
       "<matplotlib.axes._subplots.AxesSubplot at 0x151be54c6860>"
      ]
     },
     "execution_count": 54,
     "metadata": {},
     "output_type": "execute_result"
    },
    {
     "data": {
      "image/png": "[encoded data removed]",
      "text/plain": [
       "<Figure size 432x288 with 1 Axes>"
      ]
     },
     "metadata": {},
     "output_type": "display_data"
    }
   ],
   "source": [
    "# gráficar los datos (barra)\n",
    "df[df['fecha'].dt.year == 2010]['fecha'].dt.month.value_counts().sort_index().plot(kind=\"bar\")"
   ]
  },
  {
   "cell_type": "code",
   "execution_count": 55,
   "metadata": {},
   "outputs": [
    {
     "data": {
      "text/plain": [
       "<matplotlib.axes._subplots.AxesSubplot at 0x151c0a5999e8>"
      ]
     },
     "execution_count": 55,
     "metadata": {},
     "output_type": "execute_result"
    },
    {
     "data": {
      "image/png": "[encoded data removed]",
      "text/plain": [
       "<Figure size 432x288 with 1 Axes>"
      ]
     },
     "metadata": {},
     "output_type": "display_data"
    }
   ],
   "source": [
    "# gráficar los datos (barra horizontal)\n",
    "df[df['fecha'].dt.year == 2010]['fecha'].dt.month.value_counts().sort_index().plot(kind=\"barh\")"
   ]
  },
  {
   "cell_type": "code",
   "execution_count": 56,
   "metadata": {},
   "outputs": [
    {
     "data": {
      "text/plain": [
       "<matplotlib.axes._subplots.AxesSubplot at 0x151c0a50be48>"
      ]
     },
     "execution_count": 56,
     "metadata": {},
     "output_type": "execute_result"
    },
    {
     "data": {
      "image/png": "[encoded data removed]",
      "text/plain": [
       "<Figure size 576x396 with 1 Axes>"
      ]
     },
     "metadata": {},
     "output_type": "display_data"
    }
   ],
   "source": [
    "# aplicando estilo\n",
    "plt.style.use(\"seaborn\")\n",
    "# gráficar los datos (barra horizontal)\n",
    "df[df['fecha'].dt.year == 2010]['fecha'].dt.month.value_counts().sort_index().plot(kind=\"barh\")"
   ]
  },
  {
   "cell_type": "code",
   "execution_count": 28,
   "metadata": {
    "scrolled": true
   },
   "outputs": [
    {
     "data": {
      "text/plain": [
       "<matplotlib.axes._subplots.AxesSubplot at 0x151c1fd85f28>"
      ]
     },
     "execution_count": 28,
     "metadata": {},
     "output_type": "execute_result"
    },
    {
     "data": {
      "image/png": "[encoded data removed]",
      "text/plain": [
       "<Figure size 576x396 with 1 Axes>"
      ]
     },
     "metadata": {},
     "output_type": "display_data"
    }
   ],
   "source": [
    "# gráficar los datos (barra y título)\n",
    "df[df['fecha'].dt.year == 2010]['fecha'].dt.month.value_counts().sort_index().plot(kind=\"barh\", title=\"Detenciones 2010\")"
   ]
  },
  {
   "cell_type": "code",
   "execution_count": 29,
   "metadata": {},
   "outputs": [
    {
     "data": {
      "text/plain": [
       "<matplotlib.axes._subplots.AxesSubplot at 0x151c1f6cabe0>"
      ]
     },
     "execution_count": 29,
     "metadata": {},
     "output_type": "execute_result"
    },
    {
     "data": {
      "image/png": "[encoded data removed]",
      "text/plain": [
       "<Figure size 576x396 with 1 Axes>"
      ]
     },
     "metadata": {},
     "output_type": "display_data"
    }
   ],
   "source": [
    "# histograma de edades\n",
    "df['driver_age'].hist(bins=20)"
   ]
  },
  {
   "cell_type": "code",
   "execution_count": null,
   "metadata": {},
   "outputs": [],
   "source": []
  }
 ],
 "metadata": {
  "kernelspec": {
   "display_name": "Python 3",
   "language": "python",
   "name": "python3"
  },
  "language_info": {
   "codemirror_mode": {
    "name": "ipython",
    "version": 3
   },
   "file_extension": ".py",
   "mimetype": "text/x-python",
   "name": "python",
   "nbconvert_exporter": "python",
   "pygments_lexer": "ipython3",
   "version": "3.6.8"
  }
 },
 "nbformat": 4,
 "nbformat_minor": 2
}
